{
 "cells": [
  {
   "cell_type": "markdown",
   "id": "191884e4",
   "metadata": {},
   "source": [
    "## Working with Keras: A deep dive\n",
    "- Creating Keras models with the Sequential class, The Functional API, and Model subclassing\n",
    "- Using built-in Keras training and evaluation loops\n",
    "- Using Keras callbacks to customize training\n",
    "- Writing training and evaluation loops from scratch"
   ]
  },
  {
   "cell_type": "markdown",
   "id": "e0421d71",
   "metadata": {},
   "source": [
    "## Different ways to build Keras models\n",
    "- The Sequential model: the mos approachable API - it's bassically a Python list. As such, it's limited to simples stacks of layers\n",
    "- The Functional API, which focuses on graph-like model architectures, It represents a nice mid-point between usability and flexibility, and as such, it's the most commonly used model-building API\n",
    "- Model subclassing, a low-level option where you write everything yourself from scratch. This is ideal if you want full control over every little thing. However, you won't get acess to many built-in Keras featuresm and you will be more at risk of making mistakes"
   ]
  },
  {
   "cell_type": "markdown",
   "id": "4e5cb839",
   "metadata": {},
   "source": [
    "### The Sequential model"
   ]
  },
  {
   "cell_type": "markdown",
   "id": "139d6d39",
   "metadata": {},
   "source": [
    "The Sequential model ia easy to use, but its applicability is extremely limited: it can only express models with a single input and a single output, applying one layer after the other in a sequential fashion. In practice, it's pretty common to enconter models with multiple inputs (say, an image and its metadata), multiple outputs (different things you want to predict about the data), or a nonlinear topology."
   ]
  },
  {
   "cell_type": "code",
   "execution_count": 1,
   "id": "126d1fc9",
   "metadata": {},
   "outputs": [],
   "source": [
    "# Listing 7.1 The Sequential class\n",
    "\n",
    "from tensorflow import keras\n",
    "from tensorflow.keras import layers\n",
    "\n",
    "model = keras.Sequential([\n",
    "    layers.Dense(64, activation=\"relu\"),\n",
    "    layers.Dense(10, activation=\"softmax\")\n",
    "])"
   ]
  },
  {
   "cell_type": "markdown",
   "id": "190c2fe8",
   "metadata": {},
   "source": [
    "It's possible to build the same model incrementally via the add() method, which is similar to the append() metlhod of a Python list."
   ]
  },
  {
   "cell_type": "code",
   "execution_count": 2,
   "id": "9415d08a",
   "metadata": {},
   "outputs": [],
   "source": [
    "# Listing 7.2 Incrementally building a Sequential model\n",
    "\n",
    "model = keras.Sequential()\n",
    "model.add(layers.Dense(64, activation=\"relu\"))\n",
    "model.add(layers.Dense(10, activation=\"softmax\"))"
   ]
  },
  {
   "cell_type": "markdown",
   "id": "94430b59",
   "metadata": {},
   "source": [
    "These models don't have any weights until you actually call it on some data, or call its build() method with an input shape."
   ]
  },
  {
   "cell_type": "code",
   "execution_count": 3,
   "id": "dec8f791",
   "metadata": {},
   "outputs": [
    {
     "data": {
      "text/plain": [
       "[<tf.Variable 'dense_2/kernel:0' shape=(3, 64) dtype=float32, numpy=\n",
       " array([[-0.24028073, -0.19180472,  0.01998734, -0.01571992,  0.21401799,\n",
       "          0.16785938, -0.11127003,  0.22531694,  0.01965436, -0.02733085,\n",
       "          0.01044554,  0.23341012,  0.06874532, -0.27218565,  0.09478998,\n",
       "          0.15401405,  0.22255874,  0.01652679,  0.18178904, -0.21704523,\n",
       "         -0.14470093,  0.07203656, -0.21826828,  0.13749334, -0.17735457,\n",
       "          0.29584205,  0.22240222, -0.08163166, -0.24185023,  0.04814547,\n",
       "          0.22356838,  0.19927394, -0.2364105 ,  0.27611214, -0.01224458,\n",
       "         -0.05103552,  0.28401184, -0.13310918,  0.26933676,  0.01788831,\n",
       "          0.01862338,  0.02363896, -0.09514301,  0.27258718, -0.16892923,\n",
       "          0.03664634,  0.03293455,  0.13872972, -0.08475403, -0.1482728 ,\n",
       "          0.03446168, -0.26869762,  0.02346909, -0.06182969, -0.10775924,\n",
       "          0.0816614 , -0.00682646, -0.26634103, -0.06528811, -0.06672561,\n",
       "         -0.02851021, -0.26127064, -0.27181187, -0.04808068],\n",
       "        [-0.20396589,  0.2734837 , -0.2027477 , -0.08475147,  0.00340027,\n",
       "         -0.00729385,  0.2461546 ,  0.22277987,  0.2781992 , -0.17968237,\n",
       "         -0.07394212, -0.18108797,  0.19893953,  0.22521508, -0.25344384,\n",
       "         -0.17707005, -0.08658595,  0.02940384,  0.23496515,  0.00277811,\n",
       "          0.27372897, -0.22248355, -0.28210282, -0.29867646,  0.12070081,\n",
       "          0.25228143,  0.11480772,  0.0129514 ,  0.1081565 ,  0.1255385 ,\n",
       "          0.21911979,  0.18911386,  0.16670084, -0.13282137, -0.2857396 ,\n",
       "          0.27121675, -0.03379399,  0.10557842, -0.00585678, -0.11391395,\n",
       "          0.00500423, -0.00291833,  0.17518967, -0.15209632,  0.02115816,\n",
       "          0.10013163,  0.04459265, -0.22272983,  0.22863942, -0.12391843,\n",
       "          0.12714648, -0.27690873, -0.06719537,  0.26527125, -0.10668324,\n",
       "         -0.0830029 ,  0.08298934,  0.0984703 ,  0.29031247,  0.01485041,\n",
       "         -0.13992351, -0.03117833, -0.2174238 ,  0.0065465 ],\n",
       "        [-0.18333977, -0.23294637,  0.2281807 , -0.04968964,  0.2780453 ,\n",
       "          0.27925336,  0.26280868, -0.2410044 , -0.05735056, -0.22409365,\n",
       "         -0.2685224 ,  0.29336405, -0.00177214, -0.24578568,  0.0651395 ,\n",
       "          0.24362093,  0.22877908, -0.2329042 ,  0.11442572, -0.2046633 ,\n",
       "          0.19059488,  0.02044302, -0.0046241 , -0.24055235,  0.10422131,\n",
       "         -0.21434352,  0.27213895,  0.16136977,  0.08713689, -0.15720172,\n",
       "          0.18868148,  0.18591586,  0.24471354, -0.11904112,  0.09197304,\n",
       "         -0.2559769 , -0.24622256,  0.2621281 , -0.18459414,  0.19738609,\n",
       "         -0.09996103,  0.02772003,  0.03793135, -0.23478961,  0.01394856,\n",
       "          0.03639519,  0.27052605,  0.19916156,  0.0584214 , -0.14510518,\n",
       "          0.27612716, -0.25804895,  0.09167203,  0.08133864,  0.21902126,\n",
       "          0.2672472 ,  0.21218902, -0.05215047, -0.22621658,  0.06324801,\n",
       "          0.04095066, -0.06979455,  0.03994679,  0.23500842]],\n",
       "       dtype=float32)>,\n",
       " <tf.Variable 'dense_2/bias:0' shape=(64,) dtype=float32, numpy=\n",
       " array([0., 0., 0., 0., 0., 0., 0., 0., 0., 0., 0., 0., 0., 0., 0., 0., 0.,\n",
       "        0., 0., 0., 0., 0., 0., 0., 0., 0., 0., 0., 0., 0., 0., 0., 0., 0.,\n",
       "        0., 0., 0., 0., 0., 0., 0., 0., 0., 0., 0., 0., 0., 0., 0., 0., 0.,\n",
       "        0., 0., 0., 0., 0., 0., 0., 0., 0., 0., 0., 0., 0.], dtype=float32)>,\n",
       " <tf.Variable 'dense_3/kernel:0' shape=(64, 10) dtype=float32, numpy=\n",
       " array([[ 6.68707490e-03, -1.42943487e-01, -4.14914191e-02,\n",
       "         -1.16066813e-01,  5.71404099e-02, -1.61964893e-02,\n",
       "         -2.66618371e-01, -1.03064299e-01,  2.50137150e-02,\n",
       "         -2.14898363e-01],\n",
       "        [-5.35958409e-02, -3.61321270e-02,  6.77213073e-02,\n",
       "          1.44651502e-01,  5.53673506e-02, -2.56840646e-01,\n",
       "          9.77686644e-02, -1.10840648e-01,  2.46747226e-01,\n",
       "         -4.12648022e-02],\n",
       "        [-2.49328986e-01, -2.10062265e-02,  1.84655279e-01,\n",
       "         -1.15537420e-01,  1.49161100e-01, -1.89699173e-01,\n",
       "         -1.83102250e-01,  6.96142614e-02,  2.20772952e-01,\n",
       "         -2.21760526e-01],\n",
       "        [-6.79002702e-02,  1.45757496e-01,  4.43104506e-02,\n",
       "         -1.49180382e-01, -2.50184387e-01, -1.58002779e-01,\n",
       "         -2.41593912e-01, -8.33827108e-02, -1.73445225e-01,\n",
       "         -1.17787942e-01],\n",
       "        [ 3.82522345e-02,  1.91668630e-01,  2.49077708e-01,\n",
       "          4.81262803e-02,  1.31207108e-01, -1.60910338e-01,\n",
       "          2.11065888e-01, -1.34661973e-01,  1.98742002e-01,\n",
       "         -2.63287395e-01],\n",
       "        [-1.19281158e-01,  7.67081976e-04,  2.83937007e-01,\n",
       "          4.32151258e-02, -1.05725750e-01,  1.45084977e-01,\n",
       "          1.11738473e-01, -1.97968185e-01,  2.74419278e-01,\n",
       "         -2.39036322e-01],\n",
       "        [ 1.43910170e-01, -1.60138577e-01, -1.22169033e-01,\n",
       "          2.56499141e-01,  1.50150597e-01,  2.50405103e-01,\n",
       "         -1.97176069e-01,  1.93566084e-02,  5.77623248e-02,\n",
       "         -1.18018493e-01],\n",
       "        [ 1.66411936e-01,  1.20181233e-01,  2.73743123e-01,\n",
       "         -1.92080781e-01,  9.50767994e-02,  8.81306827e-02,\n",
       "         -2.34600112e-01, -1.63485229e-01, -1.92140520e-01,\n",
       "          2.78683305e-02],\n",
       "        [ 2.68412739e-01, -7.82532245e-02, -1.63523585e-01,\n",
       "         -2.64560908e-01, -8.99749398e-02, -1.84045762e-01,\n",
       "          8.71775746e-02,  8.29261541e-02, -2.14636028e-02,\n",
       "         -2.48592317e-01],\n",
       "        [-1.99824750e-01,  5.24641275e-02, -2.68202543e-01,\n",
       "          1.89219534e-01, -1.76545933e-01,  2.77974278e-01,\n",
       "         -2.35723346e-01, -9.67106223e-02, -1.10930204e-03,\n",
       "         -1.85987130e-01],\n",
       "        [ 1.28540397e-02, -1.75635219e-02,  2.10268736e-01,\n",
       "          7.53608644e-02, -2.03851596e-01,  2.00905204e-01,\n",
       "         -7.78058916e-02, -7.34592974e-02,  2.29334444e-01,\n",
       "          7.98633695e-03],\n",
       "        [-1.96503222e-01,  1.99601352e-02,  2.90838778e-02,\n",
       "          1.83843672e-01,  1.63172126e-01, -7.83832222e-02,\n",
       "         -1.18766159e-01,  2.30958134e-01,  1.73165053e-01,\n",
       "         -2.79538751e-01],\n",
       "        [ 1.44958645e-01, -9.58517641e-02, -1.85109675e-02,\n",
       "          1.87896848e-01,  1.02871358e-01,  1.40088290e-01,\n",
       "         -2.83445835e-01, -1.45941734e-01, -7.15985894e-03,\n",
       "         -2.57281780e-01],\n",
       "        [-2.49973997e-01, -1.42742097e-02, -1.59204006e-01,\n",
       "         -8.40687305e-02,  2.14539647e-01,  2.29089111e-01,\n",
       "          2.06525207e-01, -2.58142829e-01,  2.65484154e-02,\n",
       "         -2.81727016e-01],\n",
       "        [-1.86362758e-01,  1.13708019e-01, -2.18869403e-01,\n",
       "         -8.50004405e-02,  2.66327769e-01,  2.58838147e-01,\n",
       "         -6.76734596e-02, -2.05245823e-01,  1.81711316e-02,\n",
       "         -2.26238489e-01],\n",
       "        [ 2.67198473e-01, -7.14623481e-02,  1.67891622e-01,\n",
       "         -2.23392040e-01,  7.48538077e-02, -1.54163852e-01,\n",
       "         -1.99997336e-01, -7.44563788e-02, -7.85166919e-02,\n",
       "         -1.71435654e-01],\n",
       "        [-1.50415286e-01, -8.32358003e-02,  2.75709063e-01,\n",
       "         -3.06400955e-02, -1.32874250e-01,  1.91596806e-01,\n",
       "          2.39455789e-01, -2.49182209e-01,  1.83086216e-01,\n",
       "          1.95352077e-01],\n",
       "        [-2.76397645e-01, -2.08959967e-01, -7.25720525e-02,\n",
       "         -7.81500190e-02,  2.18984216e-01,  2.82401472e-01,\n",
       "         -3.73685211e-02,  1.15693033e-01, -7.08695352e-02,\n",
       "         -1.14995867e-01],\n",
       "        [ 4.80677783e-02, -1.48048609e-01,  1.87874228e-01,\n",
       "         -8.15376192e-02, -1.65800989e-01, -2.24498898e-01,\n",
       "         -1.86408848e-01,  2.07088143e-01,  1.09949887e-01,\n",
       "         -1.15505308e-01],\n",
       "        [-1.86618567e-01,  1.28376782e-02, -1.78811386e-01,\n",
       "         -3.31982970e-02, -2.77659982e-01,  1.59312367e-01,\n",
       "          9.26393270e-02,  1.86017454e-02,  2.11877108e-01,\n",
       "         -1.78316265e-01],\n",
       "        [-7.62173533e-02, -7.14537948e-02,  1.60731792e-01,\n",
       "          5.06124496e-02,  1.70014739e-01,  3.94271910e-02,\n",
       "         -1.41550466e-01, -2.52033472e-01,  2.74442703e-01,\n",
       "          1.33442968e-01],\n",
       "        [-4.10905331e-02,  6.87160194e-02, -4.43523973e-02,\n",
       "          9.89302695e-02,  4.54943776e-02, -1.60504222e-01,\n",
       "          2.66940862e-01, -2.45112181e-03, -7.65111148e-02,\n",
       "          2.00582743e-01],\n",
       "        [ 2.70941764e-01, -2.56804168e-01, -1.81575969e-01,\n",
       "          1.19845510e-01, -1.78377569e-01,  1.39479667e-01,\n",
       "          2.25584239e-01,  9.79336500e-02,  1.53359383e-01,\n",
       "         -2.71025777e-01],\n",
       "        [ 1.36573106e-01, -2.36842752e-01, -7.87558705e-02,\n",
       "          2.78757006e-01,  6.67450726e-02,  1.36840045e-02,\n",
       "          1.20490879e-01, -2.50244677e-01,  3.43152881e-03,\n",
       "          1.98925287e-01],\n",
       "        [-1.39582843e-01,  1.49568319e-02,  1.95765197e-01,\n",
       "          2.55399019e-01, -1.30428076e-01,  1.96766764e-01,\n",
       "          1.70628518e-01, -1.35874674e-01, -1.88077837e-01,\n",
       "         -9.32186842e-02],\n",
       "        [ 2.66507834e-01, -1.05889767e-01, -2.49215141e-01,\n",
       "         -1.52983338e-01, -2.66634256e-01,  7.00277686e-02,\n",
       "         -2.21171647e-01,  1.21982396e-02, -2.62651473e-01,\n",
       "         -1.66417629e-01],\n",
       "        [ 7.37527907e-02,  8.83788168e-02,  1.80377036e-01,\n",
       "          1.64025545e-01,  1.96422011e-01,  3.28392386e-02,\n",
       "         -2.84196883e-01,  2.38341421e-01, -1.96470499e-01,\n",
       "          9.59456563e-02],\n",
       "        [ 2.30794251e-02,  8.68016481e-03,  4.85605001e-03,\n",
       "         -1.78871602e-01, -2.23768353e-01, -6.98254704e-02,\n",
       "         -1.24551356e-02, -1.32589996e-01,  1.71966344e-01,\n",
       "          7.27878213e-02],\n",
       "        [ 2.61953682e-01,  2.33649045e-01,  2.17848629e-01,\n",
       "          1.23617947e-02, -9.22225416e-02, -2.56410092e-01,\n",
       "          1.67346150e-01,  1.37941092e-01, -1.14272505e-01,\n",
       "          4.29743826e-02],\n",
       "        [-1.22221306e-01,  2.29361802e-01,  1.97808236e-01,\n",
       "          1.25496536e-01, -9.11890715e-02, -1.41141310e-01,\n",
       "         -1.44664809e-01, -2.55708128e-01,  1.95777357e-01,\n",
       "          3.83954644e-02],\n",
       "        [-1.97341099e-01, -1.34492993e-01, -2.67916411e-01,\n",
       "         -2.62940466e-01,  5.36087453e-02, -2.73829550e-01,\n",
       "          1.12717450e-02, -1.69664621e-04, -8.78081918e-02,\n",
       "          7.15529919e-03],\n",
       "        [ 1.08453453e-01, -1.21575952e-01,  5.31060994e-02,\n",
       "          1.79829597e-01, -5.59555292e-02, -2.03952402e-01,\n",
       "          9.76341963e-02, -2.12575272e-01, -1.58074796e-02,\n",
       "         -2.00441182e-01],\n",
       "        [ 5.70961833e-03, -2.79313743e-01, -1.79457963e-02,\n",
       "          1.82125449e-01,  1.03739381e-01,  1.85762823e-01,\n",
       "         -5.71751595e-02,  2.79742211e-01,  6.26010001e-02,\n",
       "         -1.49615556e-01],\n",
       "        [-6.66020215e-02, -1.87240422e-01,  8.61950219e-02,\n",
       "         -9.68948156e-02, -1.56923473e-01,  9.14336741e-02,\n",
       "          9.77573991e-02, -7.37962127e-03, -1.78790480e-01,\n",
       "          1.78141534e-01],\n",
       "        [ 2.35260874e-01,  1.23082101e-02, -6.57767057e-04,\n",
       "         -5.47623783e-02, -2.28969797e-01,  1.02569938e-01,\n",
       "          1.44353479e-01, -1.21796250e-01,  6.39766753e-02,\n",
       "         -1.08563855e-01],\n",
       "        [ 2.45865554e-01, -2.68505961e-01, -2.65657812e-01,\n",
       "          2.81551629e-01,  2.09128201e-01, -2.65352964e-01,\n",
       "          7.93052316e-02,  2.66520113e-01, -8.09177309e-02,\n",
       "         -2.49737471e-01],\n",
       "        [ 1.20067507e-01, -4.69376892e-02, -2.71697968e-01,\n",
       "          1.81384325e-01, -1.34045333e-01,  3.10855210e-02,\n",
       "          9.63928401e-02, -1.56177238e-01, -7.37126619e-02,\n",
       "         -7.48621523e-02],\n",
       "        [ 2.58579940e-01,  1.10946417e-01,  1.78009868e-02,\n",
       "          2.25375563e-01,  6.66526854e-02, -2.82905906e-01,\n",
       "          1.26440614e-01,  9.34370756e-02,  6.61318898e-02,\n",
       "         -3.28763127e-02],\n",
       "        [-1.29325613e-01, -1.29618227e-01, -5.14461398e-02,\n",
       "          8.09583366e-02, -2.71852404e-01, -2.70900875e-01,\n",
       "          2.32756883e-01, -1.20307162e-01, -1.28311023e-01,\n",
       "          5.43637872e-02],\n",
       "        [ 7.34533370e-02, -2.28303611e-01,  2.14718133e-01,\n",
       "         -2.59499252e-01, -1.10979408e-01,  1.06957257e-02,\n",
       "          1.07304037e-01, -1.93291187e-01, -1.99056596e-01,\n",
       "         -1.79834545e-01],\n",
       "        [-1.31768271e-01, -2.13214442e-01, -2.12525308e-01,\n",
       "          1.69193685e-01,  5.82832396e-02,  1.34494901e-03,\n",
       "          2.28366941e-01, -2.31704772e-01,  1.65417224e-01,\n",
       "         -2.76037842e-01],\n",
       "        [ 5.20709157e-03,  1.11314118e-01,  2.08944917e-01,\n",
       "          2.81608313e-01, -2.42822289e-01, -5.87507933e-02,\n",
       "         -3.97604555e-02,  2.52578288e-01, -7.62551725e-02,\n",
       "          1.35901749e-01],\n",
       "        [ 1.50250047e-01, -1.58453420e-01, -8.51395428e-02,\n",
       "          8.78450274e-03,  1.49722755e-01, -1.32196844e-02,\n",
       "          2.76444286e-01,  1.26058459e-01,  1.88173831e-01,\n",
       "         -1.04237556e-01],\n",
       "        [ 6.02401495e-02,  1.70133740e-01, -1.51394114e-01,\n",
       "         -1.87386245e-01, -2.76882380e-01, -1.10840857e-01,\n",
       "          1.00824982e-01,  1.16511434e-01, -4.56891358e-02,\n",
       "         -1.35254860e-03],\n",
       "        [ 1.42526507e-01,  2.49775499e-01,  1.31550074e-01,\n",
       "         -1.63749784e-01,  2.59971023e-02,  1.57608628e-01,\n",
       "          8.20810795e-02,  2.67656535e-01, -9.89660621e-03,\n",
       "          2.35301584e-01],\n",
       "        [ 1.97219849e-01, -1.62315160e-01, -4.38877046e-02,\n",
       "         -1.54384226e-01,  2.45570689e-01,  9.87432301e-02,\n",
       "          9.37469900e-02,  6.24787807e-02,  7.00068772e-02,\n",
       "          6.67602122e-02],\n",
       "        [ 2.11999238e-01, -7.98275024e-02, -5.07614017e-02,\n",
       "          1.20551854e-01,  1.36896342e-01,  2.15259194e-02,\n",
       "          2.29823440e-01,  2.72469491e-01, -3.98800820e-02,\n",
       "          9.13395882e-02],\n",
       "        [-1.80719748e-01, -2.34289244e-01,  6.69187307e-02,\n",
       "          2.56200105e-01,  8.78265202e-02, -2.46351779e-01,\n",
       "          2.57751077e-01,  2.25106984e-01, -2.78554291e-01,\n",
       "          1.45326793e-01],\n",
       "        [-1.03216499e-01,  2.73338586e-01,  5.92112243e-02,\n",
       "          2.54287332e-01,  9.10916626e-02, -3.90604436e-02,\n",
       "         -5.06975949e-02, -2.83353299e-01, -2.46911868e-01,\n",
       "         -8.07654858e-03],\n",
       "        [ 1.91893816e-01,  6.90821409e-02, -1.71171561e-01,\n",
       "         -1.31545797e-01, -1.11846894e-01, -1.01098910e-01,\n",
       "          1.07396692e-01,  1.14154935e-01,  7.91002810e-02,\n",
       "         -6.04022592e-02],\n",
       "        [ 1.42376482e-01,  2.24727064e-01, -1.36610314e-01,\n",
       "          2.17023104e-01,  5.23030758e-04,  1.76352650e-01,\n",
       "         -8.95510465e-02, -1.04330361e-01, -1.65263861e-01,\n",
       "         -2.28761137e-02],\n",
       "        [-1.74085155e-01, -2.04539239e-01,  1.95620507e-01,\n",
       "          3.58473361e-02, -3.17973495e-02, -1.80579841e-01,\n",
       "          2.52387971e-01,  2.74758607e-01, -2.74224788e-01,\n",
       "         -7.33745694e-02],\n",
       "        [-1.91189259e-01, -3.69682908e-03, -1.51081011e-01,\n",
       "          5.37267327e-03, -2.20830441e-01, -2.61071295e-01,\n",
       "         -2.69655526e-01,  1.98338866e-01, -1.96763292e-01,\n",
       "         -2.00083956e-01],\n",
       "        [-1.39094040e-01,  2.09376216e-03, -2.37735778e-01,\n",
       "         -1.93139583e-01, -2.14410722e-02, -1.10853478e-01,\n",
       "          4.49016392e-02, -2.77140081e-01, -1.65984362e-01,\n",
       "         -2.44706869e-02],\n",
       "        [-8.21318626e-02,  8.23362768e-02, -1.59250721e-01,\n",
       "          1.95819557e-01, -1.38527244e-01, -6.72517866e-02,\n",
       "         -1.04847535e-01, -1.08725727e-02, -2.78875738e-01,\n",
       "          6.53017461e-02],\n",
       "        [ 8.21998715e-02, -1.64263636e-01, -2.26449698e-01,\n",
       "          2.67328352e-01, -4.16525900e-02,  4.75803912e-02,\n",
       "         -1.97585091e-01, -1.65786058e-01,  1.52409196e-01,\n",
       "         -1.82085484e-01],\n",
       "        [-2.55065411e-01,  1.10599518e-01,  1.44669235e-01,\n",
       "          1.93552613e-01, -2.19839945e-01, -1.03761315e-01,\n",
       "         -1.78674936e-01,  1.84316456e-01,  1.07933164e-01,\n",
       "         -1.75845712e-01],\n",
       "        [-2.80281663e-01,  2.42332190e-01, -2.27688998e-01,\n",
       "         -2.82014102e-01, -3.97454500e-02,  1.57953024e-01,\n",
       "          9.46802795e-02,  5.03832698e-02,  9.49223638e-02,\n",
       "          2.54046917e-02],\n",
       "        [ 1.85471654e-01, -8.85149837e-03, -1.58014044e-01,\n",
       "         -2.10618973e-01, -1.78846553e-01,  2.21748978e-01,\n",
       "         -1.57472774e-01,  1.13817513e-01,  2.20004052e-01,\n",
       "         -8.73089433e-02],\n",
       "        [ 1.14375979e-01,  1.73307359e-01,  1.91703320e-01,\n",
       "          1.14177674e-01, -2.82700330e-01, -7.83885866e-02,\n",
       "          6.50030375e-03, -2.39039034e-01,  8.83016884e-02,\n",
       "         -1.75952643e-01],\n",
       "        [ 1.77925289e-01,  8.38552117e-02,  2.40452200e-01,\n",
       "         -1.11561567e-01,  2.37177700e-01,  9.56177711e-03,\n",
       "          2.63726920e-01, -2.26151526e-01, -4.56386358e-02,\n",
       "          2.71200031e-01],\n",
       "        [ 2.89402902e-02, -1.92208752e-01, -2.24124551e-01,\n",
       "          1.14189476e-01, -1.07259572e-01,  2.64899135e-02,\n",
       "          2.55957752e-01, -2.22326726e-01, -1.47119954e-01,\n",
       "          1.81311965e-02],\n",
       "        [-2.94096172e-02,  4.14392054e-02,  1.73174292e-01,\n",
       "          8.52779746e-02,  1.89011097e-01,  1.32424951e-01,\n",
       "         -2.09614560e-01, -5.01763374e-02,  5.66710234e-02,\n",
       "          1.20742738e-01],\n",
       "        [ 4.04855907e-02, -1.95100620e-01, -1.66123062e-01,\n",
       "         -2.83371001e-01,  1.91236585e-01, -2.10687757e-01,\n",
       "          2.02472687e-01, -2.77984142e-03, -2.10420609e-01,\n",
       "          3.01922262e-02]], dtype=float32)>,\n",
       " <tf.Variable 'dense_3/bias:0' shape=(10,) dtype=float32, numpy=array([0., 0., 0., 0., 0., 0., 0., 0., 0., 0.], dtype=float32)>]"
      ]
     },
     "execution_count": 3,
     "metadata": {},
     "output_type": "execute_result"
    }
   ],
   "source": [
    "# Listing 7.4 Calling a model for the first time to build it\n",
    "\n",
    "model.build(input_shape=(None, 3)) # Builds the model - now the model will expect samples of shape (3,). The None in the input shape signals that the batch size could be anything.\n",
    "\n",
    "model.weights # Now you can retrive the model's weights."
   ]
  },
  {
   "cell_type": "markdown",
   "id": "2180c6f6",
   "metadata": {},
   "source": [
    "After the model is built, you van display its contents via the summary(), which comes in handy for debugging."
   ]
  },
  {
   "cell_type": "code",
   "execution_count": 4,
   "id": "ac1125bf",
   "metadata": {},
   "outputs": [
    {
     "name": "stdout",
     "output_type": "stream",
     "text": [
      "Model: \"sequential_1\"\n",
      "_________________________________________________________________\n",
      " Layer (type)                Output Shape              Param #   \n",
      "=================================================================\n",
      " dense_2 (Dense)             (None, 64)                256       \n",
      "                                                                 \n",
      " dense_3 (Dense)             (None, 10)                650       \n",
      "                                                                 \n",
      "=================================================================\n",
      "Total params: 906 (3.54 KB)\n",
      "Trainable params: 906 (3.54 KB)\n",
      "Non-trainable params: 0 (0.00 Byte)\n",
      "_________________________________________________________________\n"
     ]
    }
   ],
   "source": [
    "# Listing 7.5 the summary() method\n",
    "\n",
    "model.summary()"
   ]
  },
  {
   "cell_type": "markdown",
   "id": "fc561e55",
   "metadata": {},
   "source": [
    "You can give names to everything in Keras-every model, every layer"
   ]
  },
  {
   "cell_type": "code",
   "execution_count": 5,
   "id": "12e1bf5d",
   "metadata": {},
   "outputs": [
    {
     "name": "stdout",
     "output_type": "stream",
     "text": [
      "Model: \"my_example_model\"\n",
      "_________________________________________________________________\n",
      " Layer (type)                Output Shape              Param #   \n",
      "=================================================================\n",
      " my_first_layer (Dense)      (None, 64)                256       \n",
      "                                                                 \n",
      " my_last_layer (Dense)       (None, 10)                650       \n",
      "                                                                 \n",
      "=================================================================\n",
      "Total params: 906 (3.54 KB)\n",
      "Trainable params: 906 (3.54 KB)\n",
      "Non-trainable params: 0 (0.00 Byte)\n",
      "_________________________________________________________________\n"
     ]
    }
   ],
   "source": [
    "# Listing 7.6 Naming models and layers with the name argument\n",
    "\n",
    "model = keras.Sequential(name=\"my_example_model\")\n",
    "model.add(layers.Dense(64, activation=\"relu\", name=\"my_first_layer\"))\n",
    "model.add(layers.Dense(10, activation=\"softmax\", name=\"my_last_layer\"))\n",
    "model.build((None, 3))\n",
    "model.summary()"
   ]
  },
  {
   "cell_type": "markdown",
   "id": "23770dc5",
   "metadata": {},
   "source": [
    "You can't print a summary until the model is built! There's actually a way to have your Sequential built on the fly: just declare the shape of the model's inputs in advance. You can do this via the Input class"
   ]
  },
  {
   "cell_type": "code",
   "execution_count": 6,
   "id": "1e451715",
   "metadata": {},
   "outputs": [
    {
     "name": "stdout",
     "output_type": "stream",
     "text": [
      "Model: \"second_example\"\n",
      "_________________________________________________________________\n",
      " Layer (type)                Output Shape              Param #   \n",
      "=================================================================\n",
      " dense_4 (Dense)             (None, 64)                256       \n",
      "                                                                 \n",
      "=================================================================\n",
      "Total params: 256 (1.00 KB)\n",
      "Trainable params: 256 (1.00 KB)\n",
      "Non-trainable params: 0 (0.00 Byte)\n",
      "_________________________________________________________________\n"
     ]
    }
   ],
   "source": [
    "# Listing 7,7 Specifying the input shape of your model in advance\n",
    "\n",
    "model = keras.Sequential(name=\"second_example\")\n",
    "model.add(keras.Input(shape=(3,))) # Use Input to declare the shape of the inputs. Note that the shape argument must be the shape of each sample, not the shape of one batch.\n",
    "model.add(layers.Dense(64, activation=\"relu\"))\n",
    "model.summary()"
   ]
  },
  {
   "cell_type": "markdown",
   "id": "caf2277d",
   "metadata": {},
   "source": [
    "Now we can use summary() to follow how the output shape of your model changes as you add more layers"
   ]
  },
  {
   "cell_type": "code",
   "execution_count": 7,
   "id": "c92056ef",
   "metadata": {},
   "outputs": [
    {
     "name": "stdout",
     "output_type": "stream",
     "text": [
      "Model: \"second_example\"\n",
      "_________________________________________________________________\n",
      " Layer (type)                Output Shape              Param #   \n",
      "=================================================================\n",
      " dense_4 (Dense)             (None, 64)                256       \n",
      "                                                                 \n",
      " dense_5 (Dense)             (None, 10)                650       \n",
      "                                                                 \n",
      "=================================================================\n",
      "Total params: 906 (3.54 KB)\n",
      "Trainable params: 906 (3.54 KB)\n",
      "Non-trainable params: 0 (0.00 Byte)\n",
      "_________________________________________________________________\n"
     ]
    }
   ],
   "source": [
    "model. add(layers.Dense(10, activation=\"softmax\"))\n",
    "model.summary()"
   ]
  },
  {
   "cell_type": "markdown",
   "id": "bd765adb",
   "metadata": {},
   "source": [
    "### The functional API"
   ]
  },
  {
   "cell_type": "markdown",
   "id": "f12c3d53",
   "metadata": {},
   "source": [
    "This is what most Keras models you'll encounter in the wild use."
   ]
  },
  {
   "cell_type": "code",
   "execution_count": 8,
   "id": "b02a78b6",
   "metadata": {},
   "outputs": [],
   "source": [
    "from tensorflow import keras\n",
    "from tensorflow.keras import layers"
   ]
  },
  {
   "cell_type": "code",
   "execution_count": 9,
   "id": "f00e59e0",
   "metadata": {},
   "outputs": [
    {
     "name": "stdout",
     "output_type": "stream",
     "text": [
      "Model: \"model\"\n",
      "_________________________________________________________________\n",
      " Layer (type)                Output Shape              Param #   \n",
      "=================================================================\n",
      " my_input (InputLayer)       [(None, 3)]               0         \n",
      "                                                                 \n",
      " dense_6 (Dense)             (None, 64)                256       \n",
      "                                                                 \n",
      " dense_7 (Dense)             (None, 10)                650       \n",
      "                                                                 \n",
      "=================================================================\n",
      "Total params: 906 (3.54 KB)\n",
      "Trainable params: 906 (3.54 KB)\n",
      "Non-trainable params: 0 (0.00 Byte)\n",
      "_________________________________________________________________\n"
     ]
    }
   ],
   "source": [
    "inputs = keras.Input(shape=(3,), name=\"my_input\") # The inputs object holds information about the shape and dtype of the data that the model will process\n",
    "features = layers.Dense(64, activation=\"relu\")(inputs)\n",
    "outputs = layers.Dense(10, activation=\"softmax\")(features)\n",
    "model = keras.Model(inputs=inputs, outputs=outputs)\n",
    "\n",
    "model.summary()"
   ]
  },
  {
   "cell_type": "code",
   "execution_count": 10,
   "id": "0116b416",
   "metadata": {},
   "outputs": [
    {
     "name": "stdout",
     "output_type": "stream",
     "text": [
      "inputs.shape: (None, 3)\n",
      "inputs.dtype: <dtype: 'float32'>\n",
      "\n",
      "features.shape: (None, 64)\n"
     ]
    }
   ],
   "source": [
    "print(f\"inputs.shape: {inputs.shape}\") # The model will process batches where each sample has shape (3,). The number of samples per batch is variable (indicated by the None batch size).\n",
    "print(f\"inputs.dtype: {inputs.dtype}\") # These batchs will have dtype float 32\n",
    "print(f\"\\nfeatures.shape: {features.shape}\")"
   ]
  },
  {
   "cell_type": "markdown",
   "id": "86b40808",
   "metadata": {},
   "source": [
    "#### Multi-input, Multi-output models"
   ]
  },
  {
   "cell_type": "markdown",
   "id": "99a4dbbd",
   "metadata": {},
   "source": [
    "They may, for instace, have multiple inputs or multiple outputs. It's for this kind of model that the Functional API really shines."
   ]
  },
  {
   "cell_type": "markdown",
   "id": "51006082",
   "metadata": {},
   "source": [
    "Example:\n",
    "Let's say you're building a system to rank customer supprt tickets by priority and route them to the appropriate deparment. Your model has three inputs:\n",
    "- The title of the ticket (text input)\n",
    "- The text body of the ticket (text input)\n",
    "- Any tags added by the user (categorical inputm assumed here to be one-hot encoded)\n",
    "\n",
    "Your model also has two outputs:\n",
    "- The priority score of the ticket, a scalar between 0 and 1 (sigmoid output)\n",
    "- The department that should handle the ticket (a softmax over the set of departments)\n"
   ]
  },
  {
   "cell_type": "code",
   "execution_count": 11,
   "id": "f6e4c2f9",
   "metadata": {},
   "outputs": [
    {
     "name": "stdout",
     "output_type": "stream",
     "text": [
      "Model: \"model_1\"\n",
      "__________________________________________________________________________________________________\n",
      " Layer (type)                Output Shape                 Param #   Connected to                  \n",
      "==================================================================================================\n",
      " title (InputLayer)          [(None, 10000)]              0         []                            \n",
      "                                                                                                  \n",
      " textBody (InputLayer)       [(None, 10000)]              0         []                            \n",
      "                                                                                                  \n",
      " tags (InputLayer)           [(None, 100)]                0         []                            \n",
      "                                                                                                  \n",
      " concatenate (Concatenate)   (None, 20100)                0         ['title[0][0]',               \n",
      "                                                                     'textBody[0][0]',            \n",
      "                                                                     'tags[0][0]']                \n",
      "                                                                                                  \n",
      " dense_8 (Dense)             (None, 64)                   1286464   ['concatenate[0][0]']         \n",
      "                                                                                                  \n",
      " priority (Dense)            (None, 1)                    65        ['dense_8[0][0]']             \n",
      "                                                                                                  \n",
      " departament (Dense)         (None, 4)                    260       ['dense_8[0][0]']             \n",
      "                                                                                                  \n",
      "==================================================================================================\n",
      "Total params: 1286789 (4.91 MB)\n",
      "Trainable params: 1286789 (4.91 MB)\n",
      "Non-trainable params: 0 (0.00 Byte)\n",
      "__________________________________________________________________________________________________\n"
     ]
    }
   ],
   "source": [
    "# Listing 7.9 A multi-input, multi-output Functional model\n",
    "\n",
    "vocabularySize = 10000\n",
    "numTags = 100\n",
    "numDepartaments = 4\n",
    "\n",
    "# Define model inputs\n",
    "title = keras.Input(shape=(vocabularySize, ), name=\"title\")\n",
    "textBody = keras.Input(shape=(vocabularySize, ), name=\"textBody\")\n",
    "tags = keras.Input(shape=(numTags, ), name=\"tags\")\n",
    "\n",
    "features = layers.Concatenate()([title, textBody, tags]) # Combine input features into a single tensor, features, by concatenating them\n",
    "features = layers.Dense(64, activation=\"relu\")(features) \n",
    "\n",
    "priority = layers.Dense(1, activation=\"sigmoid\", name=\"priority\")(features)\n",
    "department = layers.Dense(\n",
    "    numDepartaments, activation=\"softmax\", name=\"departament\"\n",
    ")(features)\n",
    "\n",
    "model = keras.Model(inputs=[title, textBody, tags], outputs=[priority, department]) # Apply an intermediate  layer to recombine input features into richer representations.\n",
    "\n",
    "model.summary()\n",
    "\n"
   ]
  },
  {
   "cell_type": "code",
   "execution_count": 12,
   "id": "b8fca53b",
   "metadata": {},
   "outputs": [
    {
     "name": "stdout",
     "output_type": "stream",
     "text": [
      "40/40 [==============================] - 1s 14ms/step - loss: 48.6510 - priority_loss: 0.3192 - departament_loss: 48.3317 - priority_mean_absolute_error: 0.4900 - departament_accuracy: 0.1898\n",
      "40/40 [==============================] - 0s 5ms/step - loss: 27.5635 - priority_loss: 0.3307 - departament_loss: 27.2328 - priority_mean_absolute_error: 0.5014 - departament_accuracy: 0.1148\n",
      "40/40 [==============================] - 0s 4ms/step\n"
     ]
    }
   ],
   "source": [
    "# Listing 7.10 Training a model by providing lists of input and target arrays\n",
    "\n",
    "import numpy as np\n",
    "\n",
    "numSamples = 1280\n",
    "\n",
    "titleData = np.random.randint(0, 2, size=(numSamples, vocabularySize))\n",
    "textBodyData = np.random.randint(0, 2, size=(numSamples, vocabularySize))\n",
    "tagsData = np.random.randint(0, 2, size=(numSamples, numTags))\n",
    "\n",
    "priorityData = np.random.random(size=(numSamples, 1))\n",
    "departmentData = np.random.randint(0, 2, size=(numSamples, numDepartaments))\n",
    "\n",
    "model.compile(optimizer=\"rmsprop\",\n",
    "              loss=[\"mean_squared_error\", \"categorical_crossentropy\"],\n",
    "              metrics=[[\"mean_absolute_error\"], [\"accuracy\"]]\n",
    "              )\n",
    "\n",
    "model.fit([titleData, textBodyData, tagsData],\n",
    "          [priorityData, departmentData],\n",
    "          epochs=1)\n",
    "\n",
    "model.evaluate([titleData, textBodyData, tagsData],\n",
    "               [priorityData, departmentData])\n",
    "\n",
    "priorityPreds, departamentPreds = model.predict([titleData, textBodyData, tagsData])"
   ]
  },
  {
   "cell_type": "code",
   "execution_count": 13,
   "id": "bcf99f9f",
   "metadata": {},
   "outputs": [
    {
     "data": {
      "image/png": "[encoded data removed]",
      "text/plain": [
       "<IPython.core.display.Image object>"
      ]
     },
     "execution_count": 13,
     "metadata": {},
     "output_type": "execute_result"
    }
   ],
   "source": [
    "keras.utils.plot_model(model, \"ticket_classifier.png\")"
   ]
  },
  {
   "cell_type": "code",
   "execution_count": 14,
   "id": "e6a9138b",
   "metadata": {},
   "outputs": [
    {
     "data": {
      "image/png": "[encoded data removed]",
      "text/plain": [
       "<IPython.core.display.Image object>"
      ]
     },
     "execution_count": 14,
     "metadata": {},
     "output_type": "execute_result"
    }
   ],
   "source": [
    "keras.utils.plot_model(model, \"ticketClassifierWithShapeInfo.png\", show_shapes=True)"
   ]
  },
  {
   "cell_type": "code",
   "execution_count": 16,
   "id": "647808c6",
   "metadata": {},
   "outputs": [
    {
     "name": "stdout",
     "output_type": "stream",
     "text": [
      "[<keras.src.engine.input_layer.InputLayer object at 0x0000016680B73580>, <keras.src.engine.input_layer.InputLayer object at 0x0000016680B735E0>, <keras.src.engine.input_layer.InputLayer object at 0x0000016680B73E50>, <keras.src.layers.merging.concatenate.Concatenate object at 0x0000016680A72040>, <keras.src.layers.core.dense.Dense object at 0x0000016680B8AA30>, <keras.src.layers.core.dense.Dense object at 0x0000016680AFC850>, <keras.src.layers.core.dense.Dense object at 0x0000016680B997F0>]\n",
      "\n",
      " [<KerasTensor: shape=(None, 10000) dtype=float32 (created by layer 'title')>, <KerasTensor: shape=(None, 10000) dtype=float32 (created by layer 'textBody')>, <KerasTensor: shape=(None, 100) dtype=float32 (created by layer 'tags')>]\n",
      "\n",
      " KerasTensor(type_spec=TensorSpec(shape=(None, 20100), dtype=tf.float32, name=None), name='concatenate/concat:0', description=\"created by layer 'concatenate'\")\n"
     ]
    }
   ],
   "source": [
    "print(model.layers)\n",
    "print(\"\\n\", model.layers[3].input)\n",
    "print(\"\\n\", model.layers[3].output)"
   ]
  },
  {
   "cell_type": "code",
   "execution_count": 18,
   "id": "f6b1fd97",
   "metadata": {},
   "outputs": [
    {
     "data": {
      "image/png": "[encoded data removed]",
      "text/plain": [
       "<IPython.core.display.Image object>"
      ]
     },
     "execution_count": 18,
     "metadata": {},
     "output_type": "execute_result"
    }
   ],
   "source": [
    "# Listing 7.13 Creating a new model by reusing intermediate layer outputs\n",
    "\n",
    "features = model.layers[4].output # layers[4] is our intermediate Dense layer\n",
    "\n",
    "difficult = layers.Dense(3, activation=\"softmax\", name=\"difficulty\")(features)\n",
    "\n",
    "newModel = keras.Model(\n",
    "    inputs=[title, textBody, tags],\n",
    "    outputs=[priority, department, difficult]\n",
    ")\n",
    "\n",
    "keras.utils.plot_model(newModel, \"updated_ticket_classifier.png\", show_shapes=True)"
   ]
  },
  {
   "cell_type": "markdown",
   "id": "df60b0f5",
   "metadata": {},
   "source": [
    "### Subclassing the Model class"
   ]
  },
  {
   "cell_type": "markdown",
   "id": "ae87575a",
   "metadata": {},
   "source": [
    "We can create custom layers with Subclassing Model."
   ]
  },
  {
   "cell_type": "code",
   "execution_count": 19,
   "id": "0d05c438",
   "metadata": {},
   "outputs": [],
   "source": [
    "# Listing 7.14 A simple subclassed model\n",
    "\n",
    "class CustomerTicketModel(keras.Model):\n",
    "\n",
    "    def __init__(self, numDepartaments):\n",
    "        super().__init__()\n",
    "        self.concatLayer = layers.Concatenate()\n",
    "        self.mixingLayer = layers.Dense(64, activation=\"relu\")\n",
    "        self.priorityScorer = layers.Dense(1, activation=\"sigmoid\")\n",
    "        self.departmentClassifier = layers.Dense(numDepartaments, activation=\"softmax\")\n",
    "\n",
    "    def call(self, inputs):\n",
    "        title = inputs[\"title\"]\n",
    "        textBody = inputs[\"textBody\"]\n",
    "        tags = inputs[\"tags\"]\n",
    "\n",
    "        features = self.concatLayer([title, textBody, tags])\n",
    "        features = self.mixingLayer(features)\n",
    "        priority = self.priorityScorer(features)\n",
    "        department = self.departmentClassifier(features)\n",
    "        return priority, department"
   ]
  },
  {
   "cell_type": "code",
   "execution_count": 20,
   "id": "02660b4f",
   "metadata": {},
   "outputs": [],
   "source": [
    "model = CustomerTicketModel(numDepartaments=4)\n",
    "\n",
    "priority, department = model(\n",
    "    {\"title\": titleData, \"textBody\": textBodyData, \"tags\": tagsData}\n",
    ")"
   ]
  }
 ],
 "metadata": {
  "kernelspec": {
   "display_name": "3.9.13",
   "language": "python",
   "name": "python3"
  },
  "language_info": {
   "codemirror_mode": {
    "name": "ipython",
    "version": 3
   },
   "file_extension": ".py",
   "mimetype": "text/x-python",
   "name": "python",
   "nbconvert_exporter": "python",
   "pygments_lexer": "ipython3",
   "version": "3.9.13"
  }
 },
 "nbformat": 4,
 "nbformat_minor": 5
}
